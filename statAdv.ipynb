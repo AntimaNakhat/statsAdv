{
  "nbformat": 4,
  "nbformat_minor": 0,
  "metadata": {
    "colab": {
      "provenance": []
    },
    "kernelspec": {
      "name": "python3",
      "display_name": "Python 3"
    },
    "language_info": {
      "name": "python"
    }
  },
  "cells": [
    {
      "cell_type": "markdown",
      "source": [
        "**Question 1: Define the z-statistic and explain its relationship to the standard normal distribution. How is the z-statistic used in hypothesis testing?**\n",
        "\n",
        "\n",
        "Z-statistic (or z-score) measures how many standard deviations an observed value is from the mean of a normal distribution. It is calculated as:\n",
        "​\n",
        "![image.png](data:image/png;base64,iVBORw0KGgoAAAANSUhEUgAAAJkAAABJCAIAAAChABPCAAAE3klEQVR4Ae2cq5arMBSG5wXyFEjcyHFIJA6JQ+KQvAESh8QhcchIHBIXiYtE5qyEdprQdAHTlJacjSmkIez8Hzv38MXgsEWBL1syAvlgwNKelwBYAkt7FLAnJ+CXwNIeBezJCfglsLRHAXtyAn4JLO1RwJ6cgF8CS3sUsCcn4JfA0h4F7MkJ+CWw/GgFKMF1WRRl3Y3CTkraqijKZqDHmT0NTVlioj5wGvt+NkkNN3NlnV9OfREGadX2fV9nHvLyuor8pOr6roiQl/eTGd3WUqFtghCKGpncWIcIoQyv3fvX/y1jOeHUz7srry5HCKGfomdsKD1+HtayuH8Vbf2+CacIIb+S/VKHdz2lHTHsYjmUXtz8FqSyoIKlGyt+skOmvVG73EHIyTv5PhGm4pX/fv7cLpZ06MerUzLWawR9rBgd8NZjtd4llY8QSvHNFsb64oeXsArex9b85R+7WCoK6ARVIqgXBlnOFaOuskza31JDfbqJK3tZ6gQ1odh6GnPFqJamurD1lPbFsIwld665BLwXj3ZVM8il3j6ltscWFeOiNO0yxCvQnjH2MjusYjlXSYg3OeZ2jywoqQKpXbSdzO6YkhXXe6cu45WlqEBpE7+oNW0Ty7GJEHJEn4TUkes4t6YG7XI/quUewlVm479z2Y7Q7cW5GiNesrEOb/+YfbhNLNnU5f53lBZp6MUN4fwcN0yLLAmCtD6keGVsLtsd13UcbkqWBF5Y9pS0iYfcMImD+GWvlFUs+Ws+UUrprVZcXJp1BF1ql55lf7HkSFusY6nT98CwubJUe5ZHPR5YGlX6fR0hxmA/iVGU8qih0YQ3JQZ+uUmmjZHEqK9XDhujG44GLM0KOkntLrMpr6dmjOU831vh3zklgsv2kA7deib/kxhmWJI6cvj0IB+nCoqeMkbqKFRm7/4TPd+ZTRMsaRM7Qd7wGaOmypLQ/3aQszLKQtvM33Nkr5xgeCcAg882wnKQF7FMQxXH1fooi+jF8479puPW+zeYecuSMsFSkoSvttkCUrrF1OmljD/Jj6lcy+mYZElx9sLRRtlqONcpYIwlaZMwwztmzaGM1fF4JswMS1LHYaEsV6RdVSsBCyOh7bMQxMClAZakjn7Slsid5LHNvBdNuBrIs61JPMty6nLPDZIsDV2EXE90Mzx3tUtiq5xvzddzLCecetdKkuLMnwcM3De1ZN8q5Ac8/DmWbDH8ePjM7wco+DkmPMnyczIClsD8pUXvAPilPTCBJbC0R4HHOZnoOHT47ljdGfQ4xdf+A36p1XfEBe8w6w91K572/rcEAss72fnwB1//Hhd1i3FTxqLbHBbt7KEd2THofJf4KwOA5UJdsURCnUmnTXzdDLKI/FmXwFLhMa9vXW74EHvlP398GVjKLPXbb8Weo8M+dSDbs+8cWEp6zV653Ls8L2AWX7CQ4n7gKbCUoJAquHx2RAqccOYgFJxgUSGwlLCJwlTdm84E3+O+CyRZs/sUWMqS0TZxZBekmH/uKTnJmm1gKbNkjK8IdR0/zvgu2O/vKD/mEweqEX+8ApYa4S7Lys62JhdYalieNAhYnhScxmxgqRHlpEHA8qTgNGYDS40oJw0ClicFpzEbWGpEOWkQsDwpOI3ZwFIjykmDgOVJwWnMBpYaUU4aBCxPCk5j9j8TvJ+SLraMrQAAAABJRU5ErkJggg==)\n",
        "\n",
        "Where:\n",
        "\n",
        "𝑥\n",
        "x = observed value\n",
        "𝜇\n",
        "μ = population mean\n",
        "𝜎\n",
        "σ = standard deviation\n",
        "\n",
        "A z-statistic corresponds to a position on the standard normal distribution, which has a mean of 0 and a standard deviation of 1. In hypothesis testing, the z-statistic helps determine how far an observed sample is from the population mean, assuming the null hypothesis is true.\n",
        "\n",
        "\n",
        "\n",
        "**Question 2: What is a p-value, and how is it used in hypothesis testing? What does it mean if the p-value is very small (e.g., 0.01)?**\n",
        "\n",
        "A p-value represents the probability of obtaining an observed result (or more extreme) under the assumption that the null hypothesis is true.\n",
        "\n",
        "A small p-value (e.g., 0.01) indicates strong evidence against the null hypothesis, suggesting that the observed effect is unlikely due to random chance, and the null hypothesis should be rejected.\n",
        "A large p-value indicates weak evidence against the null hypothesis, so you fail to reject it.\n",
        "\n",
        "\n",
        "**Question 3: Compare and contrast the binomial and Bernoulli distributions.**\n",
        "\n",
        "\n",
        "Bernoulli distribution describes a single trial that results in either a success (1) or failure (0), with a probability\n",
        "𝑝\n",
        "p of success.\n",
        "Binomial distribution represents the sum of\n",
        "𝑛\n",
        "n independent Bernoulli trials, where each trial has the same probability\n",
        "𝑝\n",
        "p of success.\n",
        "In short, Bernoulli is for one trial, while Binomial is for multiple trials.\n",
        "\n",
        "\n",
        "**Question 4: Under what conditions is the binomial distribution used, and how does it relate to the Bernoulli distribution?**\n",
        "\n",
        "\n",
        "The binomial distribution is used when:\n",
        "\n",
        "There are a fixed number of independent trials (\n",
        "𝑛\n",
        "n).\n",
        "Each trial has two possible outcomes (success or failure).\n",
        "The probability of success (\n",
        "𝑝\n",
        "p) is constant for each trial.\n",
        "It relates to the Bernoulli distribution because the binomial distribution is the result of multiple Bernoulli trials.\n",
        "\n",
        "\n",
        "**Question 5: What are the key properties of the Poisson distribution, and when is it appropriate to use this distribution?**\n",
        "\n",
        "\n",
        "The Poisson distribution is used to model the number of events happening in a fixed interval of time or space, under the following conditions:\n",
        "\n",
        "Events occur independently.\n",
        "The average rate (\n",
        "𝜆\n",
        "λ) of events is constant.\n",
        "The probability of two events happening at exactly the same time is negligible.\n",
        "\n",
        "Key properties:\n",
        "\n",
        "Mean\n",
        "=\n",
        "𝜆\n",
        "=λ\n",
        "Variance\n",
        "=\n",
        "𝜆\n",
        "=λ\n",
        "It is appropriate for rare events, like the number of emails received per hour or the number of defects in a batch.\n",
        "\n",
        "\n",
        "**Question 6: Define the terms \"probability distribution\" and \"probability density function\" (PDF). How does a PDF differ from a probability mass function (PMF)?**\n",
        "\n",
        "A probability distribution describes how the probabilities of different outcomes are spread across a random variable.\n",
        "\n",
        "A probability density function (PDF) is used for continuous random variables and represents the likelihood of a variable falling within a particular range of values.\n",
        "\n",
        "The difference between PDF and PMF is that PMF is used for discrete random variables, where the probability is assigned to specific values, whereas PDF applies to continuous variables and is represented as a curve.\n",
        "\n",
        "\n",
        "Question 7: Explain the Central Limit Theorem (CLT) with example.\n",
        "**bold text**\n",
        "The Central Limit Theorem (CLT) states that the distribution of the sample mean approaches a normal distribution as the sample size increases, regardless of the original distribution of the population, provided the sample size is sufficiently large.\n",
        "\n",
        "Example: If we repeatedly take random samples of size\n",
        "𝑛\n",
        "n from a population (even if the population is not normally distributed) and calculate their means, the distribution of those means will tend to be normal as\n",
        "𝑛\n",
        "n grows large.\n",
        "\n",
        "\n",
        "**Question 8: Compare z-scores and t-scores. When should you use a z-score, and when should a t-score be applied instead?**\n",
        "\n",
        "A z-score is used when the population standard deviation is known and the sample size is large (typically\n",
        "𝑛\n",
        ">\n",
        "30\n",
        "n>30).\n",
        "A t-score is used when the population standard deviation is unknown and the sample size is small (\n",
        "𝑛\n",
        "≤\n",
        "30\n",
        "n≤30)."
      ],
      "metadata": {
        "id": "a3YgOw_7yTh2"
      }
    },
    {
      "cell_type": "markdown",
      "source": [
        "**Question 9: Given a sample mean of 105, a population mean of 100, a standard deviation of 15, and a sample size of 25, calculate the z-score and p-value. Based on a significance level of 0.05, do you reject or fail to\n",
        "reject the null hypothesis?**"
      ],
      "metadata": {
        "id": "XWSTXxCryGaR"
      }
    },
    {
      "cell_type": "code",
      "source": [
        "import scipy.stats as stats\n",
        "\n",
        "sample_mean = 105\n",
        "population_mean = 100\n",
        "std_dev = 15\n",
        "sample_size = 25\n",
        "\n",
        "# Z-score calculation\n",
        "z_score = (sample_mean - population_mean) / (std_dev / (sample_size ** 0.5))\n",
        "\n",
        "# P-value calculation\n",
        "p_value = 2 * (1 - stats.norm.cdf(abs(z_score)))\n",
        "\n",
        "z_score, p_value\n"
      ],
      "metadata": {
        "colab": {
          "base_uri": "https://localhost:8080/"
        },
        "id": "r13__PQ51gnq",
        "outputId": "1024c876-ac81-4185-ee91-028725658d82"
      },
      "execution_count": 6,
      "outputs": [
        {
          "output_type": "execute_result",
          "data": {
            "text/plain": [
              "(1.6666666666666667, 0.09558070454562939)"
            ]
          },
          "metadata": {},
          "execution_count": 6
        }
      ]
    },
    {
      "cell_type": "markdown",
      "source": [
        "\n",
        "At a significance level of 0.05, since the p-value (0.0956) is greater than 0.05, we fail to reject the null hypothesis\n",
        "\n",
        "\n"
      ],
      "metadata": {
        "id": "m1k38rdK27jt"
      }
    },
    {
      "cell_type": "markdown",
      "source": [
        "**Question 10: Simulate a binomial distribution with 10 trials and a probability of success of 0.6 using Python Generate 1,000 samples and plot the distribution. What is the expected mean and variance?**"
      ],
      "metadata": {
        "id": "liXXlA0w1LpD"
      }
    },
    {
      "cell_type": "code",
      "source": [
        "import numpy as np\n",
        "import matplotlib.pyplot as plt\n",
        "\n",
        "# Parameters\n",
        "n_trials = 10\n",
        "p_success = 0.6\n",
        "n_samples = 1000\n",
        "\n",
        "# Simulate binomial distribution\n",
        "binom_samples = np.random.binomial(n_trials, p_success, n_samples)\n",
        "\n",
        "# Plot distribution\n",
        "plt.hist(binom_samples, bins=range(n_trials+2), edgecolor='black', density=True)\n",
        "plt.title(\"Binomial Distribution (n=10, p=0.6)\")\n",
        "plt.xlabel(\"Number of Successes\")\n",
        "plt.ylabel(\"Probability\")\n",
        "plt.show()\n",
        "\n",
        "# Calculate mean and variance\n",
        "mean = np.mean(binom_samples)\n",
        "variance = np.var(binom_samples)\n",
        "\n",
        "mean, variance\n"
      ],
      "metadata": {
        "colab": {
          "base_uri": "https://localhost:8080/",
          "height": 490
        },
        "id": "m39SIn_T1anM",
        "outputId": "9d829661-8ea5-40fc-b3ae-2d5ca842ff84"
      },
      "execution_count": 7,
      "outputs": [
        {
          "output_type": "display_data",
          "data": {
            "text/plain": [
              "<Figure size 640x480 with 1 Axes>"
            ],
            "image/png": "[encoded data removed]"
          },
          "metadata": {}
        },
        {
          "output_type": "execute_result",
          "data": {
            "text/plain": [
              "(5.925, 2.531375)"
            ]
          },
          "metadata": {},
          "execution_count": 7
        }
      ]
    },
    {
      "cell_type": "markdown",
      "source": [
        "The simulated distribution matches the theoretical expectations quite closely"
      ],
      "metadata": {
        "id": "zEWIbAm53JNL"
      }
    }
  ]
}